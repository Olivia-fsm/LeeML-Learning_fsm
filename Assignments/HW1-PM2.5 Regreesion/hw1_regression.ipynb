{
  "nbformat": 4,
  "nbformat_minor": 0,
  "metadata": {
    "colab": {
      "name": "hw1_regression.ipynb",
      "provenance": [],
      "collapsed_sections": []
    },
    "kernelspec": {
      "name": "python3",
      "display_name": "Python 3"
    }
  },
  "cells": [
    {
      "cell_type": "markdown",
      "metadata": {
        "id": "p9FfatPz6MU3",
        "colab_type": "text"
      },
      "source": [
        "# **Homework 1: Linear Regression**"
      ]
    },
    {
      "cell_type": "markdown",
      "metadata": {
        "id": "fsoaNwrZA0ui",
        "colab_type": "text"
      },
      "source": [
        "本次目標：由前 9 個小時的 18 個 features (包含 PM2.5)預測的 10 個小時的 PM2.5。<!-- 可以參考 <link> 獲知更細項的作業說明。-->\n",
        "\n",
        "<!-- 首先，從 https://drive.google.com/open?id=1El0zvTkrSuqCTDcMpijXpADvJzZC2Jpa 將整個資料夾下載下來，並將下載下來的資料夾放到自己的 Google Drive（注意：上傳到自己 Google Drive 的是資料夾 hw1-regression，而非壓縮檔） -->\n",
        "\n",
        "\n",
        "若有任何問題，歡迎來信至助教信箱 ntu-ml-2020spring-ta@googlegroups.com"
      ]
    },
    {
      "cell_type": "markdown",
      "metadata": {
        "id": "U7RiAkkjCc6l",
        "colab_type": "text"
      },
      "source": [
        "# **Load 'train.csv'**\n",
        "train.csv 的資料為 12 個月中，每個月取 20 天，每天 24 小時的資料(每小時資料有 18 個 features)。"
      ]
    },
    {
      "cell_type": "code",
      "metadata": {
        "id": "1AfNX-hB3kN8",
        "colab_type": "code",
        "colab": {
          "base_uri": "https://localhost:8080/",
          "height": 170
        },
        "outputId": "c28c37de-a3c9-4223-a739-8be6b30a2cef"
      },
      "source": [
        "import sys\n",
        "import pandas as pd\n",
        "import numpy as np\n",
        "from google.colab import drive \n",
        "!gdown --id '1wNKAxQ29G15kgpBy_asjTcZRRgmsCZRm' --output data.zip\n",
        "!unzip data.zip\n",
        "# data = pd.read_csv('gdrive/My Drive/hw1-regression/train.csv', header = None, encoding = 'big5')\n",
        "data = pd.read_csv('./train.csv', encoding = 'big5')"
      ],
      "execution_count": 8,
      "outputs": [
        {
          "output_type": "stream",
          "text": [
            "Downloading...\n",
            "From: https://drive.google.com/uc?id=1wNKAxQ29G15kgpBy_asjTcZRRgmsCZRm\n",
            "To: /content/data.zip\n",
            "\r  0% 0.00/177k [00:00<?, ?B/s]\r100% 177k/177k [00:00<00:00, 25.5MB/s]\n",
            "Archive:  data.zip\n",
            "replace test.csv? [y]es, [n]o, [A]ll, [N]one, [r]ename: y\n",
            "  inflating: test.csv                \n",
            "replace train.csv? [y]es, [n]o, [A]ll, [N]one, [r]ename: y\n",
            "  inflating: train.csv               \n"
          ],
          "name": "stdout"
        }
      ]
    },
    {
      "cell_type": "markdown",
      "metadata": {
        "id": "gqUdj00pDTpo",
        "colab_type": "text"
      },
      "source": [
        "# **Preprocessing** \n",
        "取需要的數值部分，將 'RAINFALL' 欄位全部補 0。\n",
        "另外，如果要在 colab 重覆這段程式碼的執行，請從頭開始執行(把上面的都重新跑一次)，以避免跑出不是自己要的結果（若自己寫程式不會遇到，但 colab 重複跑這段會一直往下取資料。意即第一次取原本資料的第三欄之後的資料，第二次取第一次取的資料掉三欄之後的資料，...）。"
      ]
    },
    {
      "cell_type": "code",
      "metadata": {
        "id": "AIGP7XUYD_Yb",
        "colab_type": "code",
        "colab": {}
      },
      "source": [
        "data = data.iloc[:, 3:]\n",
        "data[data == 'NR'] = 0\n",
        "raw_data = data.to_numpy()"
      ],
      "execution_count": 9,
      "outputs": []
    },
    {
      "cell_type": "markdown",
      "metadata": {
        "id": "V7PCrVwX6jBF",
        "colab_type": "text"
      },
      "source": [
        "# **Extract Features (1)**\n",
        "![圖片說明](https://drive.google.com/uc?id=1LyaqD4ojX07oe5oDzPO99l9ts5NRyArH)\n",
        "![圖片說明](https://drive.google.com/uc?id=1ZroBarcnlsr85gibeqEF-MtY13xJTG47)\n",
        "\n",
        "將原始 4320 * 18 的資料依照每個月分重組成 12 個 18 (features) * 480 (hours) 的資料。 "
      ]
    },
    {
      "cell_type": "code",
      "metadata": {
        "id": "HBnrGYXu9dZQ",
        "colab_type": "code",
        "colab": {}
      },
      "source": [
        "month_data = {}\n",
        "for month in range(12):\n",
        "    sample = np.empty([18, 480])\n",
        "    for day in range(20):\n",
        "        sample[:, day * 24 : (day + 1) * 24] = raw_data[18 * (20 * month + day) : 18 * (20 * month + day + 1), :]\n",
        "    month_data[month] = sample"
      ],
      "execution_count": 10,
      "outputs": []
    },
    {
      "cell_type": "markdown",
      "metadata": {
        "id": "WhVmtFEQ9D6t",
        "colab_type": "text"
      },
      "source": [
        "# **Extract Features (2)**\n",
        "![alt text](https://drive.google.com/uc?id=1wKoPuaRHoX682LMiBgIoOP4PDyNKsJLK)\n",
        "![alt text](https://drive.google.com/uc?id=1FRWWiXQ-Qh0i9tyx0LiugHYF_xDdkhLN)\n",
        "\n",
        "每個月會有 480hrs，每 9 小時形成一個 data，每個月會有 471 個 data，故總資料數為 471 * 12 筆，而每筆 data 有 9 * 18 的 features (一小時 18 個 features * 9 小時)。\n",
        "\n",
        "對應的 target 則有 471 * 12 個(第 10 個小時的 PM2.5)"
      ]
    },
    {
      "cell_type": "code",
      "metadata": {
        "id": "dcOrC4Fi-n3i",
        "colab_type": "code",
        "colab": {
          "base_uri": "https://localhost:8080/",
          "height": 255
        },
        "outputId": "5f2a7fff-5db8-4bc5-a69e-b8f37a4aaffa"
      },
      "source": [
        "x = np.empty([12 * 471, 18 * 9], dtype = float)\n",
        "y = np.empty([12 * 471, 1], dtype = float)\n",
        "for month in range(12):\n",
        "    for day in range(20):\n",
        "        for hour in range(24):\n",
        "            if day == 19 and hour > 14:\n",
        "                continue\n",
        "            x[month * 471 + day * 24 + hour, :] = month_data[month][:,day * 24 + hour : day * 24 + hour + 9].reshape(1, -1) #vector dim:18*9 (9 9 9 9 9 9 9 9 9 9 9 9 9 9 9 9 9 9)\n",
        "            y[month * 471 + day * 24 + hour, 0] = month_data[month][9, day * 24 + hour + 9] #value\n",
        "print(x)\n",
        "print(y)"
      ],
      "execution_count": 11,
      "outputs": [
        {
          "output_type": "stream",
          "text": [
            "[[14.  14.  14.  ...  2.   2.   0.5]\n",
            " [14.  14.  13.  ...  2.   0.5  0.3]\n",
            " [14.  13.  12.  ...  0.5  0.3  0.8]\n",
            " ...\n",
            " [17.  18.  19.  ...  1.1  1.4  1.3]\n",
            " [18.  19.  18.  ...  1.4  1.3  1.6]\n",
            " [19.  18.  17.  ...  1.3  1.6  1.8]]\n",
            "[[30.]\n",
            " [41.]\n",
            " [44.]\n",
            " ...\n",
            " [17.]\n",
            " [24.]\n",
            " [29.]]\n"
          ],
          "name": "stdout"
        }
      ]
    },
    {
      "cell_type": "markdown",
      "metadata": {
        "id": "1wOii0TX8IwE",
        "colab_type": "text"
      },
      "source": [
        "# **Normalize (1)**\n"
      ]
    },
    {
      "cell_type": "code",
      "metadata": {
        "id": "ceMqFoNI8ftQ",
        "colab_type": "code",
        "colab": {
          "base_uri": "https://localhost:8080/",
          "height": 238
        },
        "outputId": "1b6b2f23-f810-4113-ac92-0fd9bd94580b"
      },
      "source": [
        "mean_x = np.mean(x, axis = 0) #18 * 9 \n",
        "std_x = np.std(x, axis = 0) #18 * 9 \n",
        "for i in range(len(x)): #12 * 471\n",
        "    for j in range(len(x[0])): #18 * 9 \n",
        "        if std_x[j] != 0:\n",
        "            x[i][j] = (x[i][j] - mean_x[j]) / std_x[j]\n",
        "x"
      ],
      "execution_count": 12,
      "outputs": [
        {
          "output_type": "execute_result",
          "data": {
            "text/plain": [
              "array([[-1.35825331, -1.35883937, -1.359222  , ...,  0.26650729,\n",
              "         0.2656797 , -1.14082131],\n",
              "       [-1.35825331, -1.35883937, -1.51819928, ...,  0.26650729,\n",
              "        -1.13963133, -1.32832904],\n",
              "       [-1.35825331, -1.51789368, -1.67717656, ..., -1.13923451,\n",
              "        -1.32700613, -0.85955971],\n",
              "       ...,\n",
              "       [-0.88092053, -0.72262212, -0.56433559, ..., -0.57693779,\n",
              "        -0.29644471, -0.39079039],\n",
              "       [-0.7218096 , -0.56356781, -0.72331287, ..., -0.29578943,\n",
              "        -0.39013211, -0.1095288 ],\n",
              "       [-0.56269867, -0.72262212, -0.88229015, ..., -0.38950555,\n",
              "        -0.10906991,  0.07797893]])"
            ]
          },
          "metadata": {
            "tags": []
          },
          "execution_count": 12
        }
      ]
    },
    {
      "cell_type": "markdown",
      "metadata": {
        "id": "NzvXP5Jya64j",
        "colab_type": "text"
      },
      "source": [
        "#**Split Training Data Into \"train_set\" and \"validation_set\"**\n",
        "這部分是針對作業中 report 的第二題、第三題做的簡單示範，以生成比較中用來訓練的 train_set 和不會被放入訓練、只是用來驗證的 validation_set。"
      ]
    },
    {
      "cell_type": "code",
      "metadata": {
        "id": "feF4XXOQb5SC",
        "colab_type": "code",
        "colab": {
          "base_uri": "https://localhost:8080/",
          "height": 765
        },
        "outputId": "689001a0-caf1-4835-8933-3e02b5cd1323"
      },
      "source": [
        "import math\n",
        "x_train_set = x[: math.floor(len(x) * 0.8), :]\n",
        "y_train_set = y[: math.floor(len(y) * 0.8), :]\n",
        "x_validation = x[math.floor(len(x) * 0.8): , :]\n",
        "y_validation = y[math.floor(len(y) * 0.8): , :]\n",
        "print(x_train_set)\n",
        "print(y_train_set)\n",
        "print(x_validation)\n",
        "print(y_validation)\n",
        "print(len(x_train_set))\n",
        "print(len(y_train_set))\n",
        "print(len(x_validation))\n",
        "print(len(y_validation))"
      ],
      "execution_count": 13,
      "outputs": [
        {
          "output_type": "stream",
          "text": [
            "[[-1.35825331 -1.35883937 -1.359222   ...  0.26650729  0.2656797\n",
            "  -1.14082131]\n",
            " [-1.35825331 -1.35883937 -1.51819928 ...  0.26650729 -1.13963133\n",
            "  -1.32832904]\n",
            " [-1.35825331 -1.51789368 -1.67717656 ... -1.13923451 -1.32700613\n",
            "  -0.85955971]\n",
            " ...\n",
            " [ 0.86929969  0.70886668  0.38952809 ...  1.39110073  0.2656797\n",
            "  -0.39079039]\n",
            " [ 0.71018876  0.39075806  0.07157353 ...  0.26650729 -0.39013211\n",
            "  -0.39079039]\n",
            " [ 0.3919669   0.07264944  0.07157353 ... -0.38950555 -0.39013211\n",
            "  -0.85955971]]\n",
            "[[30.]\n",
            " [41.]\n",
            " [44.]\n",
            " ...\n",
            " [ 7.]\n",
            " [ 5.]\n",
            " [14.]]\n",
            "[[ 0.07374504  0.07264944  0.07157353 ... -0.38950555 -0.85856912\n",
            "  -0.57829812]\n",
            " [ 0.07374504  0.07264944  0.23055081 ... -0.85808615 -0.57750692\n",
            "   0.54674825]\n",
            " [ 0.07374504  0.23170375  0.23055081 ... -0.57693779  0.54674191\n",
            "  -0.1095288 ]\n",
            " ...\n",
            " [-0.88092053 -0.72262212 -0.56433559 ... -0.57693779 -0.29644471\n",
            "  -0.39079039]\n",
            " [-0.7218096  -0.56356781 -0.72331287 ... -0.29578943 -0.39013211\n",
            "  -0.1095288 ]\n",
            " [-0.56269867 -0.72262212 -0.88229015 ... -0.38950555 -0.10906991\n",
            "   0.07797893]]\n",
            "[[13.]\n",
            " [24.]\n",
            " [22.]\n",
            " ...\n",
            " [17.]\n",
            " [24.]\n",
            " [29.]]\n",
            "4521\n",
            "4521\n",
            "1131\n",
            "1131\n"
          ],
          "name": "stdout"
        }
      ]
    },
    {
      "cell_type": "markdown",
      "metadata": {
        "id": "Q-qAu0KR_ZRR",
        "colab_type": "text"
      },
      "source": [
        "# **Training**\n",
        "![alt text](https://drive.google.com/uc?id=1xIXvqZ4EGgmxrp7c9r0LOVbcvd4d9H4N)\n",
        "![alt text](https://drive.google.com/uc?id=1S42g06ON5oJlV2f9RukxawjbE4NpsaB6)\n",
        "![alt text](https://drive.google.com/uc?id=1BbXu-oPB9EZBHDQ12YCkYqtyAIil3bGj)\n",
        "\n",
        "(和上圖不同處: 下面的 code 採用 Root Mean Square Error)\n",
        "\n",
        "因為常數項的存在，所以 dimension (dim) 需要多加一欄；eps 項是避免 adagrad 的分母為 0 而加的極小數值。\n",
        "\n",
        "每一個 dimension (dim) 會對應到各自的 gradient, weight (w)，透過一次次的 iteration (iter_time) 學習。"
      ]
    },
    {
      "cell_type": "code",
      "metadata": {
        "id": "cCzDfxBFBFqp",
        "colab_type": "code",
        "colab": {
          "base_uri": "https://localhost:8080/",
          "height": 1000
        },
        "outputId": "771dcc3f-6f28-40da-9960-66abc32117b5"
      },
      "source": [
        "dim = 18 * 9 + 1\n",
        "w = np.zeros([dim, 1])\n",
        "x = np.concatenate((np.ones([12 * 471, 1]), x), axis = 1).astype(float)\n",
        "learning_rate = 100\n",
        "iter_time = 1000\n",
        "adagrad = np.zeros([dim, 1])\n",
        "eps = 0.0000000001\n",
        "for t in range(iter_time):\n",
        "    loss = np.sqrt(np.sum(np.power(np.dot(x, w) - y, 2))/471/12)#rmse\n",
        "    if(t%100==0):\n",
        "        print(str(t) + \":\" + str(loss))\n",
        "    gradient = 2 * np.dot(x.transpose(), np.dot(x, w) - y) #dim*1\n",
        "    adagrad += gradient ** 2\n",
        "    w = w - learning_rate * gradient / np.sqrt(adagrad + eps)\n",
        "np.save('weight.npy', w)\n",
        "w"
      ],
      "execution_count": 14,
      "outputs": [
        {
          "output_type": "stream",
          "text": [
            "0:27.071214829194115\n",
            "100:33.78905859777454\n",
            "200:19.91375129819709\n",
            "300:13.53106819368969\n",
            "400:10.64546615844617\n",
            "500:9.277353455475065\n",
            "600:8.5180420459565\n",
            "700:8.014061987588422\n",
            "800:7.63675682477569\n",
            "900:7.3365637403711235\n"
          ],
          "name": "stdout"
        },
        {
          "output_type": "execute_result",
          "data": {
            "text/plain": [
              "array([[ 2.13740269e+01],\n",
              "       [ 3.58888909e+00],\n",
              "       [ 4.56386323e+00],\n",
              "       [ 2.16307023e+00],\n",
              "       [-6.58545223e+00],\n",
              "       [-3.38885580e+01],\n",
              "       [ 3.22235518e+01],\n",
              "       [ 3.49340354e+00],\n",
              "       [-4.60308671e+00],\n",
              "       [-1.02374754e+00],\n",
              "       [-3.96791501e-01],\n",
              "       [-1.06908800e-01],\n",
              "       [ 2.22488184e-01],\n",
              "       [ 8.99634117e-02],\n",
              "       [ 1.31243105e-01],\n",
              "       [ 2.15894989e-02],\n",
              "       [-1.52867263e-01],\n",
              "       [ 4.54087776e-02],\n",
              "       [ 5.20999235e-01],\n",
              "       [ 1.60824213e-01],\n",
              "       [-3.17709451e-02],\n",
              "       [ 1.28529025e-02],\n",
              "       [-1.76839437e-01],\n",
              "       [ 1.71241371e-01],\n",
              "       [-1.31190032e-01],\n",
              "       [-3.51614451e-02],\n",
              "       [ 1.00826192e-01],\n",
              "       [ 3.45018257e-01],\n",
              "       [ 4.00130315e-02],\n",
              "       [ 2.54331382e-02],\n",
              "       [-5.04425219e-01],\n",
              "       [ 3.71483018e-01],\n",
              "       [ 8.46357671e-01],\n",
              "       [-8.11920428e-01],\n",
              "       [-8.00217575e-02],\n",
              "       [ 1.52737711e-01],\n",
              "       [ 2.64915130e-01],\n",
              "       [-5.19860416e-02],\n",
              "       [-2.51988315e-01],\n",
              "       [ 3.85246517e-01],\n",
              "       [ 1.65431451e-01],\n",
              "       [-7.83633314e-02],\n",
              "       [-2.89457231e-01],\n",
              "       [ 1.77615023e-01],\n",
              "       [ 3.22506948e-01],\n",
              "       [-4.59955256e-01],\n",
              "       [-3.48635358e-02],\n",
              "       [-5.81764363e-01],\n",
              "       [-6.43394528e-02],\n",
              "       [-6.32876949e-01],\n",
              "       [ 6.36624507e-02],\n",
              "       [ 8.31592506e-02],\n",
              "       [-4.45157961e-01],\n",
              "       [-2.34526366e-01],\n",
              "       [ 9.86608594e-01],\n",
              "       [ 2.65230652e-01],\n",
              "       [ 3.51938093e-02],\n",
              "       [ 3.07464334e-01],\n",
              "       [-1.04311239e-01],\n",
              "       [-6.49166901e-02],\n",
              "       [ 2.11224757e-01],\n",
              "       [-2.43159815e-01],\n",
              "       [-1.31285604e-01],\n",
              "       [ 1.09045810e+00],\n",
              "       [-3.97913710e-02],\n",
              "       [ 9.19563678e-01],\n",
              "       [-9.44824150e-01],\n",
              "       [-5.04137735e-01],\n",
              "       [ 6.81272939e-01],\n",
              "       [-1.34494828e+00],\n",
              "       [-2.68009542e-01],\n",
              "       [ 4.36204342e-02],\n",
              "       [ 1.89619513e+00],\n",
              "       [-3.41873873e-01],\n",
              "       [ 1.89162461e-01],\n",
              "       [ 1.73251268e-02],\n",
              "       [ 3.14431930e-01],\n",
              "       [-3.40828467e-01],\n",
              "       [ 4.92385651e-01],\n",
              "       [ 9.29634214e-02],\n",
              "       [-4.50983589e-01],\n",
              "       [ 1.47456584e+00],\n",
              "       [-3.03417236e-02],\n",
              "       [ 7.71229328e-02],\n",
              "       [ 6.38314494e-01],\n",
              "       [-7.93287087e-01],\n",
              "       [ 8.82877506e-01],\n",
              "       [ 3.18965610e+00],\n",
              "       [-5.75671706e+00],\n",
              "       [ 1.60748945e+00],\n",
              "       [ 1.36142440e+01],\n",
              "       [ 1.50029111e-01],\n",
              "       [-4.78389603e-02],\n",
              "       [-6.29463755e-02],\n",
              "       [-2.85383032e-02],\n",
              "       [-3.01562821e-01],\n",
              "       [ 4.12058013e-01],\n",
              "       [-6.77534154e-02],\n",
              "       [-1.00985479e-01],\n",
              "       [-1.68972973e-01],\n",
              "       [ 1.64093233e+00],\n",
              "       [ 1.89670371e+00],\n",
              "       [ 3.94713816e-01],\n",
              "       [-4.71231449e+00],\n",
              "       [-7.42760774e+00],\n",
              "       [ 6.19781936e+00],\n",
              "       [ 3.53986244e+00],\n",
              "       [-9.56245861e-01],\n",
              "       [-1.04372792e+00],\n",
              "       [-4.92863713e-01],\n",
              "       [ 6.31608790e-01],\n",
              "       [-4.85175956e-01],\n",
              "       [ 2.58400216e-01],\n",
              "       [ 9.43846795e-02],\n",
              "       [-1.29323184e-01],\n",
              "       [-3.81235287e-01],\n",
              "       [ 3.86819479e-01],\n",
              "       [ 4.04211627e-01],\n",
              "       [ 3.75568914e-01],\n",
              "       [ 1.83512261e-01],\n",
              "       [-8.01417708e-02],\n",
              "       [-3.10188597e-01],\n",
              "       [-3.96124612e-01],\n",
              "       [ 3.66227853e-01],\n",
              "       [ 1.79488593e-01],\n",
              "       [-3.14477051e-01],\n",
              "       [-2.37611443e-01],\n",
              "       [ 3.97076104e-02],\n",
              "       [ 1.38775912e-01],\n",
              "       [-3.84015069e-02],\n",
              "       [-5.47557119e-02],\n",
              "       [ 4.19975207e-01],\n",
              "       [ 4.46120687e-01],\n",
              "       [-4.31074826e-01],\n",
              "       [-8.74450768e-02],\n",
              "       [-5.69534264e-02],\n",
              "       [-7.23980157e-02],\n",
              "       [-1.39880128e-02],\n",
              "       [ 1.40489658e-01],\n",
              "       [-2.44952334e-01],\n",
              "       [ 1.83646770e-01],\n",
              "       [-1.64135512e-01],\n",
              "       [-7.41216452e-02],\n",
              "       [-9.71414213e-02],\n",
              "       [ 1.98829041e-02],\n",
              "       [-4.46965919e-01],\n",
              "       [-2.63440959e-01],\n",
              "       [ 1.52924043e-01],\n",
              "       [ 6.52532847e-02],\n",
              "       [ 7.06818266e-01],\n",
              "       [ 9.73757051e-02],\n",
              "       [-3.35687787e-01],\n",
              "       [-2.26559165e-01],\n",
              "       [-3.00117086e-01],\n",
              "       [ 1.24185231e-01],\n",
              "       [ 4.18872344e-01],\n",
              "       [-2.51891946e-01],\n",
              "       [-1.29095731e-01],\n",
              "       [-5.57512471e-01],\n",
              "       [ 8.76239582e-02],\n",
              "       [ 3.02594902e-01],\n",
              "       [-4.23463160e-01],\n",
              "       [ 4.89922051e-01]])"
            ]
          },
          "metadata": {
            "tags": []
          },
          "execution_count": 14
        }
      ]
    },
    {
      "cell_type": "markdown",
      "metadata": {
        "id": "ZqNdWKsYBK28",
        "colab_type": "text"
      },
      "source": [
        "# **Testing**\n",
        "![alt text](https://drive.google.com/uc?id=1165ETzZyE6HStqKvgR0gKrJwgFLK6-CW)\n",
        "\n",
        "載入 test data，並且以相似於訓練資料預先處理和特徵萃取的方式處理，使 test data 形成 240 個維度為 18 * 9 + 1 的資料。"
      ]
    },
    {
      "cell_type": "code",
      "metadata": {
        "id": "AALygqJFCWOA",
        "colab_type": "code",
        "colab": {}
      },
      "source": [
        "# testdata = pd.read_csv('gdrive/My Drive/hw1-regression/test.csv', header = None, encoding = 'big5')\n",
        "testdata = pd.read_csv('./test.csv', header = None, encoding = 'big5')\n",
        "test_data = testdata.iloc[:, 2:]\n",
        "test_data[test_data == 'NR'] = 0\n",
        "test_data = test_data.to_numpy()\n",
        "test_x = np.empty([240, 18*9], dtype = float)\n",
        "for i in range(240):\n",
        "    test_x[i, :] = test_data[18 * i: 18* (i + 1), :].reshape(1, -1)\n",
        "for i in range(len(test_x)):\n",
        "    for j in range(len(test_x[0])):\n",
        "        if std_x[j] != 0:\n",
        "            test_x[i][j] = (test_x[i][j] - mean_x[j]) / std_x[j]\n",
        "test_x = np.concatenate((np.ones([240, 1]), test_x), axis = 1).astype(float)\n",
        "test_x"
      ],
      "execution_count": null,
      "outputs": []
    },
    {
      "cell_type": "markdown",
      "metadata": {
        "id": "dJQks9JEHR6W",
        "colab_type": "text"
      },
      "source": [
        "# **Prediction**\n",
        "說明圖同上\n",
        "\n",
        "![alt text](https://drive.google.com/uc?id=1165ETzZyE6HStqKvgR0gKrJwgFLK6-CW)\n",
        "\n",
        "有了 weight 和測試資料即可預測 target。"
      ]
    },
    {
      "cell_type": "code",
      "metadata": {
        "id": "jNyB229jHsEQ",
        "colab_type": "code",
        "colab": {}
      },
      "source": [
        "w = np.load('weight.npy')\n",
        "ans_y = np.dot(test_x, w)\n",
        "ans_y"
      ],
      "execution_count": null,
      "outputs": []
    },
    {
      "cell_type": "markdown",
      "metadata": {
        "id": "HKMKW7RzHwuO",
        "colab_type": "text"
      },
      "source": [
        "# **Save Prediction to CSV File**\n"
      ]
    },
    {
      "cell_type": "code",
      "metadata": {
        "id": "Dwfpqqy0H8en",
        "colab_type": "code",
        "colab": {}
      },
      "source": [
        "import csv\n",
        "with open('submit.csv', mode='w', newline='') as submit_file:\n",
        "    csv_writer = csv.writer(submit_file)\n",
        "    header = ['id', 'value']\n",
        "    print(header)\n",
        "    csv_writer.writerow(header)\n",
        "    for i in range(240):\n",
        "        row = ['id_' + str(i), ans_y[i][0]]\n",
        "        csv_writer.writerow(row)\n",
        "        print(row)"
      ],
      "execution_count": null,
      "outputs": []
    },
    {
      "cell_type": "markdown",
      "metadata": {
        "id": "Y54yWq9cIPR4",
        "colab_type": "text"
      },
      "source": [
        "相關 reference 可以參考:\n",
        "\n",
        "Adagrad :\n",
        "https://youtu.be/yKKNr-QKz2Q?list=PLJV_el3uVTsPy9oCRY30oBPNLCo89yu49&t=705 \n",
        "\n",
        "RMSprop : \n",
        "https://www.youtube.com/watch?v=5Yt-obwvMHI \n",
        "\n",
        "Adam\n",
        "https://www.youtube.com/watch?v=JXQT_vxqwIs \n",
        "\n",
        "\n",
        "以上 print 的部分主要是為了看一下資料和結果的呈現，拿掉也無妨。另外，在自己的 linux 系統，可以將檔案寫死的的部分換成 sys.argv 的使用 (可在 terminal 自行輸入檔案和檔案位置)。\n",
        "\n",
        "最後，可以藉由調整 learning rate、iter_time (iteration 次數)、取用 features 的多寡(取幾個小時，取哪些特徵欄位)，甚至是不同的 model 來超越 baseline。\n",
        "\n",
        "Report 的問題模板請參照 : https://docs.google.com/document/d/1s84RXs2AEgZr54WCK9IgZrfTF-6B1td-AlKR9oqYa4g/edit"
      ]
    }
  ]
}